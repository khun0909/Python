{
 "cells": [
  {
   "cell_type": "code",
   "execution_count": 16,
   "metadata": {},
   "outputs": [],
   "source": [
    "# 1. 모듈 연결하기\n",
    "import requests\n",
    "import pandas as pd\n",
    "import json"
   ]
  },
  {
   "cell_type": "markdown",
   "metadata": {},
   "source": [
    "#### 기본URL 사용"
   ]
  },
  {
   "cell_type": "code",
   "execution_count": 20,
   "metadata": {},
   "outputs": [],
   "source": [
    "userKey='V2soxVa%2FBMDzYDIk9IbGZTgcZeSQ6GIdaZnsBoez7GPAUwIQ%2F6MT%2FjyI5mtbTgXy24zNvlE9d5%2FEF0Y0YoKoNQ%3D%3D'\n",
    "url=\"http://apis.data.go.kr/1360000/AsosDalyInfoService/getWthrDataList?serviceKey=\"+userKey\n",
    "url += '&numOfRows=10&pageNo=1&dataCd=ASOS&dateCd=DAY&startDt=20230101&endDt=20230806&stnIds=108&dataType=JSON'"
   ]
  },
  {
   "cell_type": "code",
   "execution_count": 21,
   "metadata": {},
   "outputs": [
    {
     "name": "stdout",
     "output_type": "stream",
     "text": [
      "b'{\"response\":{\"header\":{\"resultCode\":\"00\",\"resultMsg\":\"NORMAL_SERVICE\"},\"body\":{\"dataType\":\"JSON\",\"items\":{\"item\":[{\"stnId\":\"108\",\"stnNm\":\"\\xec\\x84\\x9c\\xec\\x9a\\xb8\",\"tm\":\"2023-01-01\",\"avgTa\":\"-0.2\",\"minTa\":\"-4.3\",\"minTaHrmt\":\"2350\",\"maxTa\":\"3.8\",\"maxTaHrmt\":\"1343\",\"mi10MaxRn\":\"\",\"mi10MaxRnHrmt\":\"\",\"hr1MaxRn\":\"\",\"hr1MaxRnHrmt\":\"\",\"sumRnDur\":\"\",\"sumRn\":\"\",\"maxInsWs\":\"8.1\",\"maxInsWsWd\":\"290\",\"maxInsWsHrmt\":\"1406\",\"maxWs\":\"5.3\",\"maxWsWd\":\"320\",\"maxWsHrmt\":\"2135\",\"avgWs\":\"2.7\",\"hr24SumRws\":\"2314\",\"maxWd\":\"270\",\"avgTd\":\"-8.7\",\"minRhm\":\"28\",\"minRhmHrmt\":\"1656\",\"avgRhm\":\"54.5\",\"avgPv\":\"3.3\",\"avgPa\":\"1019.8\",\"maxPs\":\"1033.2\",\"maxPsHrmt\":\"2253\",\"minPs\":\"1028.6\",\"minPsHrmt\":\"0137\",\"avgPs\":\"1030.8\",\"ssDur\":\"9.6\",\"sumSsHr\":\"9.0\",\"hr1MaxIcsrHrmt\":\"1200\",\"hr1MaxIcsr\":\"1.87\",\"sumGsr\":\"10.81\",\"ddMefs\":\"\",\"ddMefsHrmt\":\"\",\"ddMes\":\"\",\"ddMesHrmt\":\"\",\"sumDpthFhsc\":\"\",\"avgTca\":\"1.3\",\"avgLmac\":\"1.1\",\"avgTs\":\"-1.4\",\"minTg\":\"-8.1\",\"avgCm5Te\":\"-0.2\",\"avgCm10Te\":\"-0.5\",\"avgCm20Te\":\"-0.5\",\"avgCm30Te\":\"0.6\",\"avgM05Te\":\"2.8\",\"avgM10Te\":\"6.3\",\"avgM15Te\":\"10.1\",\"avgM30Te\":\"15.9\",\"avgM50Te\":\"18.0\",\"sumLrgEv\":\"1.6\",\"sumSmlEv\":\"2.3\",\"n99Rn\":\"\",\"iscs\":\"{\\xec\\x97\\xb0\\xeb\\xac\\xb4}0125-{\\xec\\x97\\xb0\\xeb\\xac\\xb4}{\\xea\\xb0\\x95\\xeb\\x8f\\x840}0300-0450. {\\xec\\x97\\xb0\\xeb\\xac\\xb4}0550-{\\xec\\x97\\xb0\\xeb\\xac\\xb4}{\\xea\\xb0\\x95\\xeb\\x8f\\x840}0600-{\\xec\\x97\\xb0\\xeb\\xac\\xb4}{\\xea\\xb0\\x95\\xeb\\x8f\\x840}0900-1030.\",\"sumFogDur\":\"\"},{\"stnId\":\"108\",\"stnNm\":\"\\xec\\x84\\x9c\\xec\\x9a\\xb8\",\"tm\":\"2023-01-02\",\"avgTa\":\"-4.5\",\"minTa\":\"-7.4\",\"minTaHrmt\":\"0804\",\"maxTa\":\"-0.4\",\"maxTaHrmt\":\"1525\",\"mi10MaxRn\":\"\",\"mi10MaxRnHrmt\":\"\",\"hr1MaxRn\":\"\",\"hr1MaxRnHrmt\":\"\",\"sumRnDur\":\"\",\"sumRn\":\"\",\"maxInsWs\":\"7.4\",\"maxInsWsWd\":\"250\",\"maxInsWsHrmt\":\"1501\",\"maxWs\":\"4.4\",\"maxWsWd\":\"290\",\"maxWsHrmt\":\"1307\",\"avgWs\":\"2.5\",\"hr24SumRws\":\"2176\",\"maxWd\":\"270\",\"avgTd\":\"-14.6\",\"minRhm\":\"32\",\"minRhmHrmt\":\"1543\",\"avgRhm\":\"45.9\",\"avgPv\":\"2.0\",\"avgPa\":\"1021.0\",\"maxPs\":\"1034.0\",\"maxPsHrmt\":\"1005\",\"minPs\":\"1030.3\",\"minPsHrmt\":\"1521\",\"avgPs\":\"1032.2\",\"ssDur\":\"9.6\",\"sumSsHr\":\"9.1\",\"hr1MaxIcsrHrmt\":\"1200\",\"hr1MaxIcsr\":\"1.99\",\"sumGsr\":\"11.63\",\"ddMefs\":\"\",\"ddMefsHrmt\":\"\",\"ddMes\":\"\",\"ddMesHrmt\":\"\",\"sumDpthFhsc\":\"\",\"avgTca\":\"0.0\",\"avgLmac\":\"0.0\",\"avgTs\":\"-4.2\",\"minTg\":\"-13.4\",\"avgCm5Te\":\"-0.9\",\"avgCm10Te\":\"-1.0\",\"avgCm20Te\":\"-0.5\",\"avgCm30Te\":\"0.6\",\"avgM05Te\":\"2.7\",\"avgM10Te\":\"6.2\",\"avgM15Te\":\"9.9\",\"avgM30Te\":\"15.8\",\"avgM50Te\":\"17.9\",\"sumLrgEv\":\"1.3\",\"sumSmlEv\":\"1.9\",\"n99Rn\":\"\",\"iscs\":\"\",\"sumFogDur\":\"\"},{\"stnId\":\"108\",\"stnNm\":\"\\xec\\x84\\x9c\\xec\\x9a\\xb8\",\"tm\":\"2023-01-03\",\"avgTa\":\"-5.0\",\"minTa\":\"-9.0\",\"minTaHrmt\":\"0551\",\"maxTa\":\"0.6\",\"maxTaHrmt\":\"1555\",\"mi10MaxRn\":\"\",\"mi10MaxRnHrmt\":\"\",\"hr1MaxRn\":\"\",\"hr1MaxRnHrmt\":\"\",\"sumRnDur\":\"\",\"sumRn\":\"\",\"maxInsWs\":\"6.7\",\"maxInsWsWd\":\"290\",\"maxInsWsHrmt\":\"1459\",\"maxWs\":\"3.9\",\"maxWsWd\":\"320\",\"maxWsHrmt\":\"1304\",\"avgWs\":\"1.8\",\"hr24SumRws\":\"1542\",\"maxWd\":\"270\",\"avgTd\":\"-14.6\",\"minRhm\":\"27\",\"minRhmHrmt\":\"1416\",\"avgRhm\":\"49.0\",\"avgPv\":\"2.0\",\"avgPa\":\"1019.5\",\"maxPs\":\"1032.1\",\"maxPsHrmt\":\"0306\",\"minPs\":\"1028.7\",\"minPsHrmt\":\"1500\",\"avgPs\":\"1030.7\",\"ssDur\":\"9.7\",\"sumSsHr\":\"9.1\",\"hr1MaxIcsrHrmt\":\"1200\",\"hr1MaxIcsr\":\"2.0\",\"sumGsr\":\"11.77\",\"ddMefs\":\"\",\"ddMefsHrmt\":\"\",\"ddMes\":\"\",\"ddMesHrmt\":\"\",\"sumDpthFhsc\":\"\",\"avgTca\":\"0.0\",\"avgLmac\":\"0.0\",\"avgTs\":\"-4.8\",\"minTg\":\"-16.4\",\"avgCm5Te\":\"-1.5\",\"avgCm10Te\":\"-1.5\",\"avgCm20Te\":\"-0.8\",\"avgCm30Te\":\"0.5\",\"avgM05Te\":\"2.6\",\"avgM10Te\":\"6.1\",\"avgM15Te\":\"9.8\",\"avgM30Te\":\"15.7\",\"avgM50Te\":\"17.9\",\"sumLrgEv\":\"1.3\",\"sumSmlEv\":\"1.9\",\"n99Rn\":\"\",\"iscs\":\"\",\"sumFogDur\":\"\"},{\"stnId\":\"108\",\"stnNm\":\"\\xec\\x84\\x9c\\xec\\x9a\\xb8\",\"tm\":\"2023-01-04\",\"avgTa\":\"-1.8\",\"minTa\":\"-5.7\",\"minTaHrmt\":\"0229\",\"maxTa\":\"3.3\",\"maxTaHrmt\":\"1510\",\"mi10MaxRn\":\"\",\"mi10MaxRnHrmt\":\"\",\"hr1MaxRn\":\"\",\"hr1MaxRnHrmt\":\"\",\"sumRnDur\":\"\",\"sumRn\":\"\",\"maxInsWs\":\"7.2\",\"maxInsWsWd\":\"320\",\"maxInsWsHrmt\":\"1256\",\"maxWs\":\"4.2\",\"maxWsWd\":\"290\",\"maxWsHrmt\":\"1238\",\"avgWs\":\"1.9\",\"hr24SumRws\":\"1644\",\"maxWd\":\"270\",\"avgTd\":\"-10.7\",\"minRhm\":\"34\",\"minRhmHrmt\":\"1517\",\"avgRhm\":\"51.4\",\"avgPv\":\"2.7\",\"avgPa\":\"1019.5\",\"maxPs\":\"1031.5\",\"maxPsHrmt\":\"1014\",\"minPs\":\"1029.5\",\"minPsHrmt\":\"1459\",\"avgPs\":\"1030.5\",\"ssDur\":\"9.7\",\"sumSsHr\":\"8.7\",\"hr1MaxIcsrHrmt\":\"1200\",\"hr1MaxIcsr\":\"1.91\",\"sumGsr\":\"10.89\",\"ddMefs\":\"\",\"ddMefsHrmt\":\"\",\"ddMes\":\"\",\"ddMesHrmt\":\"\",\"sumDpthFhsc\":\"\",\"avgTca\":\"1.9\",\"avgLmac\":\"1.9\",\"avgTs\":\"-2.9\",\"minTg\":\"-13.9\",\"avgCm5Te\":\"-1.1\",\"avgCm10Te\":\"-1.2\",\"avgCm20Te\":\"-0.8\",\"avgCm30Te\":\"0.3\",\"avgM05Te\":\"2.5\",\"avgM10Te\":\"6.0\",\"avgM15Te\":\"9.7\",\"avgM30Te\":\"15.6\",\"avgM50Te\":\"17.9\",\"sumLrgEv\":\"1.5\",\"sumSmlEv\":\"2.1\",\"n99Rn\":\"\",\"iscs\":\"\",\"sumFogDur\":\"\"},{\"stnId\":\"108\",\"stnNm\":\"\\xec\\x84\\x9c\\xec\\x9a\\xb8\",\"tm\":\"2023-01-05\",\"avgTa\":\"-1.6\",\"minTa\":\"-5.6\",\"minTaHrmt\":\"0749\",\"maxTa\":\"3.6\",\"maxTaHrmt\":\"1536\",\"mi10MaxRn\":\"\",\"mi10MaxRnHrmt\":\"\",\"hr1MaxRn\":\"\",\"hr1MaxRnHrmt\":\"\",\"sumRnDur\":\"\",\"sumRn\":\"\",\"maxInsWs\":\"5.6\",\"maxInsWsWd\":\"230\",\"maxInsWsHrmt\":\"1553\",\"maxWs\":\"3.2\",\"maxWsWd\":\"200\",\"maxWsHrmt\":\"1558\",\"avgWs\":\"1.6\",\"hr24SumRws\":\"1386\",\"maxWd\":\"20\",\"avgTd\":\"-8.9\",\"minRhm\":\"39\",\"minRhmHrmt\":\"1554\",\"avgRhm\":\"58.1\",\"avgPv\":\"3.1\",\"avgPa\":\"1019.6\",\"maxPs\":\"1032.3\",\"maxPsHrmt\":\"0945\",\"minPs\":\"1029.2\",\"minPsHrmt\":\"2059\",\"avgPs\":\"1030.6\",\"ssDur\":\"9.7\",\"sumSsHr\":\"4.7\",\"hr1MaxIcsrHrmt\":\"1100\",\"hr1MaxIcsr\":\"1.06\",\"sumGsr\":\"6.09\",\"ddMefs\":\"\",\"ddMefsHrmt\":\"\",\"ddMes\":\"\",\"ddMesHrmt\":\"\",\"sumDpthFhsc\":\"\",\"avgTca\":\"3.6\",\"avgLmac\":\"1.6\",\"avgTs\":\"-3.3\",\"minTg\":\"-12.5\",\"avgCm5Te\":\"-1.0\",\"avgCm10Te\":\"-1.1\",\"avgCm20Te\":\"-0.8\",\"avgCm30Te\":\"0.2\",\"avgM05Te\":\"2.4\",\"avgM10Te\":\"5.9\",\"avgM15Te\":\"9.5\",\"avgM30Te\":\"15.5\",\"avgM50Te\":\"17.8\",\"sumLrgEv\":\"0.9\",\"sumSmlEv\":\"1.2\",\"n99Rn\":\"\",\"iscs\":\"\",\"sumFogDur\":\"\"},{\"stnId\":\"108\",\"stnNm\":\"\\xec\\x84\\x9c\\xec\\x9a\\xb8\",\"tm\":\"2023-01-06\",\"avgTa\":\"0.6\",\"minTa\":\"-4.7\",\"minTaHrmt\":\"0816\",\"maxTa\":\"5.7\",\"maxTaHrmt\":\"1414\",\"mi10MaxRn\":\"\",\"mi10MaxRnHrmt\":\"\",\"hr1MaxRn\":\"\",\"hr1MaxRnHrmt\":\"\",\"sumRnDur\":\"4.78\",\"sumRn\":\"3.9\",\"maxInsWs\":\"6.9\",\"maxInsWsWd\":\"70\",\"maxInsWsHrmt\":\"1918\",\"maxWs\":\"4.1\",\"maxWsWd\":\"50\",\"maxWsHrmt\":\"1923\",\"avgWs\":\"2.2\",\"hr24SumRws\":\"1884\",\"maxWd\":\"20\",\"avgTd\":\"-4.1\",\"minRhm\":\"48\",\"minRhmHrmt\":\"1406\",\"avgRhm\":\"71.9\",\"avgPv\":\"4.6\",\"avgPa\":\"1011.1\",\"maxPs\":\"1029.6\",\"maxPsHrmt\":\"0001\",\"minPs\":\"1014.3\",\"minPsHrmt\":\"2327\",\"avgPs\":\"1021.9\",\"ssDur\":\"9.7\",\"sumSsHr\":\"7.1\",\"hr1MaxIcsrHrmt\":\"1100\",\"hr1MaxIcsr\":\"1.66\",\"sumGsr\":\"8.78\",\"ddMefs\":\"3.6\",\"ddMefsHrmt\":\"2320\",\"ddMes\":\"3.6\",\"ddMesHrmt\":\"2320\",\"sumDpthFhsc\":\"3.7\",\"avgTca\":\"5.8\",\"avgLmac\":\"3.4\",\"avgTs\":\"-1.7\",\"minTg\":\"-11.0\",\"avgCm5Te\":\"-0.8\",\"avgCm10Te\":\"-1.0\",\"avgCm20Te\":\"-0.8\",\"avgCm30Te\":\"0.2\",\"avgM05Te\":\"2.3\",\"avgM10Te\":\"5.7\",\"avgM15Te\":\"9.4\",\"avgM30Te\":\"15.4\",\"avgM50Te\":\"17.8\",\"sumLrgEv\":\"1.0\",\"sumSmlEv\":\"1.4\",\"n99Rn\":\"4.0\",\"iscs\":\"{\\xec\\x97\\xb0\\xeb\\xac\\xb4}1420-{\\xec\\x97\\xb0\\xeb\\xac\\xb4}{\\xea\\xb0\\x95\\xeb\\x8f\\x840}1500-{\\xec\\x97\\xb0\\xeb\\xac\\xb4}{\\xea\\xb0\\x95\\xeb\\x8f\\x840}1800-2040. {\\xeb\\xb9\\x84}1755-{\\xeb\\xb9\\x84}{\\xea\\xb0\\x95\\xeb\\x8f\\x840}1800-1840. {\\xeb\\x88\\x88}1955-{\\xec\\x8b\\x9c\\xec\\xa0\\x95(\\xeb\\xaf\\xb8\\xeb\\xa7\\x8c)}{1km}{\\xeb\\x88\\x88}2032-{\\xeb\\x88\\x88}{\\xea\\xb0\\x95\\xeb\\x8f\\x841}2100-{\\xec\\x8b\\x9c\\xec\\xa0\\x95(\\xec\\x9d\\xb4\\xec\\x83\\x81)}{1km}{\\xeb\\x88\\x88}2105-{\\xec\\x8b\\x9c\\xec\\xa0\\x95(\\xeb\\xaf\\xb8\\xeb\\xa7\\x8c)}{1km}{\\xeb\\x88\\x88}2127-{\\xec\\x8b\\x9c\\xec\\xa0\\x95(\\xec\\x9d\\xb4\\xec\\x83\\x81)}{1km}{\\xeb\\x88\\x88}2143-{\\xec\\x8b\\x9c\\xec\\xa0\\x95(\\xeb\\xaf\\xb8\\xeb\\xa7\\x8c)}{1km}{\\xeb\\x88\\x88}2217-{\\xec\\x8b\\x9c\\xec\\xa0\\x95(\\xeb\\xaf\\xb8\\xeb\\xa7\\x8c)}{0.5km}{\\xeb\\x88\\x88}2231-{\\xec\\x8b\\x9c\\xec\\xa0\\x95(\\xec\\x9d\\xb4\\xec\\x83\\x81)}{0.5km}{\\xeb\\x88\\x88}2322-{\\xec\\x8b\\x9c\\xec\\xa0\\x95(\\xec\\x9d\\xb4\\xec\\x83\\x81)}{1km}{\\xeb\\x88\\x88}2355-2357. {\\xeb\\xb0\\x95\\xeb\\xac\\xb4}2035-{\\xeb\\xb0\\x95\\xeb\\xac\\xb4}{\\xea\\xb0\\x95\\xeb\\x8f\\x842}2100-{\\xeb\\xb0\\x95\\xeb\\xac\\xb4}{\\xea\\xb0\\x95\\xeb\\x8f\\x842}2400-\",\"sumFogDur\":\"\"},{\"stnId\":\"108\",\"stnNm\":\"\\xec\\x84\\x9c\\xec\\x9a\\xb8\",\"tm\":\"2023-01-07\",\"avgTa\":\"1.5\",\"minTa\":\"-1.4\",\"minTaHrmt\":\"2354\",\"maxTa\":\"3.8\",\"maxTaHrmt\":\"1336\",\"mi10MaxRn\":\"\",\"mi10MaxRnHrmt\":\"\",\"hr1MaxRn\":\"\",\"hr1MaxRnHrmt\":\"\",\"sumRnDur\":\"1.42\",\"sumRn\":\"0.1\",\"maxInsWs\":\"8.3\",\"maxInsWsWd\":\"270\",\"maxInsWsHrmt\":\"0727\",\"maxWs\":\"4.4\",\"maxWsWd\":\"270\",\"maxWsHrmt\":\"0644\",\"avgWs\":\"2.2\",\"hr24SumRws\":\"1885\",\"maxWd\":\"270\",\"avgTd\":\"-1.5\",\"minRhm\":\"64\",\"minRhmHrmt\":\"1617\",\"avgRhm\":\"80.9\",\"avgPv\":\"5.5\",\"avgPa\":\"1008.7\",\"maxPs\":\"1023.8\",\"maxPsHrmt\":\"2220\",\"minPs\":\"1013.6\",\"minPsHrmt\":\"0105\",\"avgPs\":\"1019.5\",\"ssDur\":\"9.7\",\"sumSsHr\":\"1.0\",\"hr1MaxIcsrHrmt\":\"1300\",\"hr1MaxIcsr\":\"1.16\",\"sumGsr\":\"4.78\",\"ddMefs\":\"\",\"ddMefsHrmt\":\"\",\"ddMes\":\"3.6\",\"ddMesHrmt\":\"0001\",\"sumDpthFhsc\":\"\",\"avgTca\":\"5.6\",\"avgLmac\":\"5.6\",\"avgTs\":\"0.5\",\"minTg\":\"-7.9\",\"avgCm5Te\":\"0.1\",\"avgCm10Te\":\"-0.3\",\"avgCm20Te\":\"-0.5\",\"avgCm30Te\":\"0.2\",\"avgM05Te\":\"2.3\",\"avgM10Te\":\"5.6\",\"avgM15Te\":\"9.3\",\"avgM30Te\":\"15.3\",\"avgM50Te\":\"17.7\",\"sumLrgEv\":\"0.6\",\"sumSmlEv\":\"0.9\",\"n99Rn\":\"\",\"iscs\":\"-{\\xeb\\xb0\\x95\\xeb\\xac\\xb4}-{\\xeb\\xb0\\x95\\xeb\\xac\\xb4}{\\xea\\xb0\\x95\\xeb\\x8f\\x842}0300-{\\xec\\x8b\\x9c\\xec\\xa0\\x95(\\xeb\\xaf\\xb8\\xeb\\xa7\\x8c)}{1km}{\\xec\\x95\\x88\\xea\\xb0\\x9c}0347-{\\xec\\x95\\x88\\xea\\xb0\\x9c}{\\xea\\xb0\\x95\\xeb\\x8f\\x840}0600-{\\xec\\x8b\\x9c\\xec\\xa0\\x95(\\xec\\x9d\\xb4\\xec\\x83\\x81)}{1km}{\\xeb\\xb0\\x95\\xeb\\xac\\xb4}0616-{\\xeb\\xb0\\x95\\xeb\\xac\\xb4}{\\xea\\xb0\\x95\\xeb\\x8f\\x841}0900-{\\xeb\\xb0\\x95\\xeb\\xac\\xb4}{\\xea\\xb0\\x95\\xeb\\x8f\\x841}1200-1310. {\\xeb\\xb9\\x84}0330-0445. {\\xeb\\xb9\\x84}0545-0555. {\\xec\\x97\\xb0\\xeb\\xac\\xb4}1305-{\\xec\\x97\\xb0\\xeb\\xac\\xb4}{\\xea\\xb0\\x95\\xeb\\x8f\\x840}1500-{\\xec\\x97\\xb0\\xeb\\xac\\xb4}{\\xea\\xb0\\x95\\xeb\\x8f\\x840}1800-2035. {\\xeb\\xb0\\x95\\xeb\\xac\\xb4}2030-{\\xeb\\xb0\\x95\\xeb\\xac\\xb4}{\\xea\\xb0\\x95\\xeb\\x8f\\x840}2100-2155. {\\xec\\x97\\xb0\\xeb\\xac\\xb4}2150- {\\xed\\x99\\xa9\\xec\\x82\\xac}2240-2245.{\\xed\\x99\\xa9\\xec\\x82\\xac}{\\xea\\xb0\\x95\\xeb\\x8f\\x840}2400-\",\"sumFogDur\":\"2.48\"},{\"stnId\":\"108\",\"stnNm\":\"\\xec\\x84\\x9c\\xec\\x9a\\xb8\",\"tm\":\"2023-01-08\",\"avgTa\":\"1.3\",\"minTa\":\"-3.7\",\"minTaHrmt\":\"0800\",\"maxTa\":\"6.3\",\"maxTaHrmt\":\"1522\",\"mi10MaxRn\":\"\",\"mi10MaxRnHrmt\":\"\",\"hr1MaxRn\":\"\",\"hr1MaxRnHrmt\":\"\",\"sumRnDur\":\"\",\"sumRn\":\"\",\"maxInsWs\":\"4.8\",\"maxInsWsWd\":\"50\",\"maxInsWsHrmt\":\"1924\",\"maxWs\":\"3.0\",\"maxWsWd\":\"50\",\"maxWsHrmt\":\"1909\",\"avgWs\":\"1.7\",\"hr24SumRws\":\"1481\",\"maxWd\":\"50\",\"avgTd\":\"-4.0\",\"minRhm\":\"46\",\"minRhmHrmt\":\"1536\",\"avgRhm\":\"69.3\",\"avgPv\":\"4.6\",\"avgPa\":\"1013.9\",\"maxPs\":\"1026.6\",\"maxPsHrmt\":\"0941\",\"minPs\":\"1023.2\",\"minPsHrmt\":\"1522\",\"avgPs\":\"1024.7\",\"ssDur\":\"9.7\",\"sumSsHr\":\"7.1\",\"hr1MaxIcsrHrmt\":\"1200\",\"hr1MaxIcsr\":\"1.71\",\"sumGsr\":\"9.37\",\"ddMefs\":\"\",\"ddMefsHrmt\":\"\",\"ddMes\":\"\",\"ddMesHrmt\":\"\",\"sumDpthFhsc\":\"\",\"avgTca\":\"3.0\",\"avgLmac\":\"2.8\",\"avgTs\":\"-0.2\",\"minTg\":\"-9.5\",\"avgCm5Te\":\"0.1\",\"avgCm10Te\":\"-0.3\",\"avgCm20Te\":\"-0.5\",\"avgCm30Te\":\"0.3\",\"avgM05Te\":\"2.3\",\"avgM10Te\":\"5.5\",\"avgM15Te\":\"9.2\",\"avgM30Te\":\"15.2\",\"avgM50Te\":\"17.7\",\"sumLrgEv\":\"1.2\",\"sumSmlEv\":\"1.8\",\"n99Rn\":\"\",\"iscs\":\"{\\xeb\\x8b\\xac\\xeb\\xac\\xb4\\xeb\\xa6\\xac}0155-0220. -{\\xed\\x99\\xa9\\xec\\x82\\xac}-{\\xed\\x99\\xa9\\xec\\x82\\xac}{\\xea\\xb0\\x95\\xeb\\x8f\\x840}0300-{\\xed\\x99\\xa9\\xec\\x82\\xac}{\\xea\\xb0\\x95\\xeb\\x8f\\x840}0600-{\\xed\\x99\\xa9\\xec\\x82\\xac}{\\xea\\xb0\\x95\\xeb\\x8f\\x840}0900-{\\xed\\x99\\xa9\\xec\\x82\\xac}{\\xea\\xb0\\x95\\xeb\\x8f\\x840}1200-{\\xed\\x99\\xa9\\xec\\x82\\xac}{\\xea\\xb0\\x95\\xeb\\x8f\\x840}1500-{\\xed\\x99\\xa9\\xec\\x82\\xac}{\\xea\\xb0\\x95\\xeb\\x8f\\x840}1800-{\\xed\\x99\\xa9\\xec\\x82\\xac}{\\xea\\xb0\\x95\\xeb\\x8f\\x840}2100-{\\xed\\x99\\xa9\\xec\\x82\\xac}{\\xea\\xb0\\x95\\xeb\\x8f\\x840}2400- {\\xeb\\xb0\\x95\\xeb\\xac\\xb4}0450-{\\xeb\\xb0\\x95\\xeb\\xac\\xb4}{\\xea\\xb0\\x95\\xeb\\x8f\\x840}0600-{\\xeb\\xb0\\x95\\xeb\\xac\\xb4}{\\xea\\xb0\\x95\\xeb\\x8f\\x840}0900-1130.\",\"sumFogDur\":\"\"},{\"stnId\":\"108\",\"stnNm\":\"\\xec\\x84\\x9c\\xec\\x9a\\xb8\",\"tm\":\"2023-01-09\",\"avgTa\":\"3.1\",\"minTa\":\"-1.3\",\"minTaHrmt\":\"2400\",\"maxTa\":\"7.0\",\"maxTaHrmt\":\"1238\",\"mi10MaxRn\":\"\",\"mi10MaxRnHrmt\":\"\",\"hr1MaxRn\":\"\",\"hr1MaxRnHrmt\":\"\",\"sumRnDur\":\"\",\"sumRn\":\"\",\"maxInsWs\":\"8.6\",\"maxInsWsWd\":\"200\",\"maxInsWsHrmt\":\"1357\",\"maxWs\":\"4.7\",\"maxWsWd\":\"250\",\"maxWsHrmt\":\"1358\",\"avgWs\":\"2.3\",\"hr24SumRws\":\"1994\",\"maxWd\":\"290\",\"avgTd\":\"-3.9\",\"minRhm\":\"43\",\"minRhmHrmt\":\"1243\",\"avgRhm\":\"60.1\",\"avgPv\":\"4.7\",\"avgPa\":\"1013.8\",\"maxPs\":\"1028.6\",\"maxPsHrmt\":\"2334\",\"minPs\":\"1022.2\",\"minPsHrmt\":\"0413\",\"avgPs\":\"1024.6\",\"ssDur\":\"9.7\",\"sumSsHr\":\"7.8\",\"hr1MaxIcsrHrmt\":\"1200\",\"hr1MaxIcsr\":\"1.89\",\"sumGsr\":\"10.53\",\"ddMefs\":\"\",\"ddMefsHrmt\":\"\",\"ddMes\":\"\",\"ddMesHrmt\":\"\",\"sumDpthFhsc\":\"\",\"avgTca\":\"3.3\",\"avgLmac\":\"3.3\",\"avgTs\":\"1.4\",\"minTg\":\"-7.7\",\"avgCm5Te\":\"0.1\",\"avgCm10Te\":\"-0.2\",\"avgCm20Te\":\"-0.5\",\"avgCm30Te\":\"0.3\",\"avgM05Te\":\"2.3\",\"avgM10Te\":\"5.5\",\"avgM15Te\":\"9.1\",\"avgM30Te\":\"15.1\",\"avgM50Te\":\"17.7\",\"sumLrgEv\":\"1.5\",\"sumSmlEv\":\"2.2\",\"n99Rn\":\"\",\"iscs\":\"-{\\xed\\x99\\xa9\\xec\\x82\\xac}-{\\xed\\x99\\xa9\\xec\\x82\\xac}{\\xea\\xb0\\x95\\xeb\\x8f\\x840}0300- {\\xec\\x97\\xb0\\xeb\\xac\\xb4}0350-0355.0530. {\\xec\\x97\\xb0\\xeb\\xac\\xb4}0640-{\\xec\\x97\\xb0\\xeb\\xac\\xb4}{\\xea\\xb0\\x95\\xeb\\x8f\\x840}0900-1155.\",\"sumFogDur\":\"\"},{\"stnId\":\"108\",\"stnNm\":\"\\xec\\x84\\x9c\\xec\\x9a\\xb8\",\"tm\":\"2023-01-10\",\"avgTa\":\"1.6\",\"minTa\":\"-3.9\",\"minTaHrmt\":\"0724\",\"maxTa\":\"9.1\",\"maxTaHrmt\":\"1530\",\"mi10MaxRn\":\"\",\"mi10MaxRnHrmt\":\"\",\"hr1MaxRn\":\"\",\"hr1MaxRnHrmt\":\"\",\"sumRnDur\":\"\",\"sumRn\":\"\",\"maxInsWs\":\"4.4\",\"maxInsWsWd\":\"50\",\"maxInsWsHrmt\":\"1103\",\"maxWs\":\"2.7\",\"maxWsWd\":\"20\",\"maxWsHrmt\":\"0521\",\"avgWs\":\"1.5\",\"hr24SumRws\":\"1333\",\"maxWd\":\"50\",\"avgTd\":\"-5.7\",\"minRhm\":\"39\",\"minRhmHrmt\":\"1505\",\"avgRhm\":\"59.9\",\"avgPv\":\"4.0\",\"avgPa\":\"1017.6\",\"maxPs\":\"1030.6\",\"maxPsHrmt\":\"0947\",\"minPs\":\"1026.6\",\"minPsHrmt\":\"1654\",\"avgPs\":\"1028.4\",\"ssDur\":\"9.8\",\"sumSsHr\":\"8.8\",\"hr1MaxIcsrHrmt\":\"1200\",\"hr1MaxIcsr\":\"1.95\",\"sumGsr\":\"11.33\",\"ddMefs\":\"\",\"ddMefsHrmt\":\"\",\"ddMes\":\"\",\"ddMesHrmt\":\"\",\"sumDpthFhsc\":\"\",\"avgTca\":\"1.4\",\"avgLmac\":\"0.0\",\"avgTs\":\"0.2\",\"minTg\":\"-9.3\",\"avgCm5Te\":\"0.1\",\"avgCm10Te\":\"-0.2\",\"avgCm20Te\":\"-0.4\",\"avgCm30Te\":\"0.4\",\"avgM05Te\":\"2.3\",\"avgM10Te\":\"5.4\",\"avgM15Te\":\"9.0\",\"avgM30Te\":\"15.0\",\"avgM50Te\":\"17.6\",\"sumLrgEv\":\"1.5\",\"sumSmlEv\":\"2.1\",\"n99Rn\":\"\",\"iscs\":\"\",\"sumFogDur\":\"\"}]},\"pageNo\":1,\"numOfRows\":10,\"totalCount\":218}}}'\n"
     ]
    }
   ],
   "source": [
    "response = requests.get(url)\n",
    "print(response.content)"
   ]
  },
  {
   "cell_type": "markdown",
   "metadata": {},
   "source": [
    "#### params 사용"
   ]
  },
  {
   "cell_type": "code",
   "execution_count": 22,
   "metadata": {},
   "outputs": [],
   "source": [
    "# 2. 기본정보 설정\n",
    "url = 'http://apis.data.go.kr/1360000/AsosDalyInfoService/getWthrDataList'\n",
    "params ={'serviceKey' : 'V2soxVa/BMDzYDIk9IbGZTgcZeSQ6GIdaZnsBoez7GPAUwIQ/6MT/jyI5mtbTgXy24zNvlE9d5/EF0Y0YoKoNQ==', \n",
    "         'pageNo' : '1', \n",
    "         'numOfRows' : '10', \n",
    "         'dataType' : 'JSON', \n",
    "         'dataCd' : 'ASOS', \n",
    "         'dateCd' : 'DAY', \n",
    "         'startDt' : '20100101', \n",
    "         'endDt' : '20100806', \n",
    "         'stnIds' : '155' }"
   ]
  },
  {
   "cell_type": "code",
   "execution_count": 23,
   "metadata": {},
   "outputs": [
    {
     "name": "stdout",
     "output_type": "stream",
     "text": [
      "b'{\"response\":{\"header\":{\"resultCode\":\"00\",\"resultMsg\":\"NORMAL_SERVICE\"},\"body\":{\"dataType\":\"JSON\",\"items\":{\"item\":[{\"stnId\":\"155\",\"stnNm\":\"\\xec\\xb0\\xbd\\xec\\x9b\\x90\",\"tm\":\"2010-01-01\",\"avgTa\":\"-2.1\",\"minTa\":\"-8.0\",\"minTaHrmt\":\"0516\",\"maxTa\":\"2.9\",\"maxTaHrmt\":\"1441\",\"mi10MaxRn\":\"\",\"mi10MaxRnHrmt\":\"\",\"hr1MaxRn\":\"\",\"hr1MaxRnHrmt\":\"\",\"sumRnDur\":\"\",\"sumRn\":\"\",\"maxInsWs\":\"6.0\",\"maxInsWsWd\":\"140\",\"maxInsWsHrmt\":\"1510\",\"maxWs\":\"4.3\",\"maxWsWd\":\"110\",\"maxWsHrmt\":\"1512\",\"avgWs\":\"1.5\",\"hr24SumRws\":\"1324\",\"maxWd\":\"110\",\"avgTd\":\"-12.8\",\"minRhm\":\"31\",\"minRhmHrmt\":\"0002\",\"avgRhm\":\"44.3\",\"avgPv\":\"2.3\",\"avgPa\":\"1016.5\",\"maxPs\":\"1023.1\",\"maxPsHrmt\":\"0845\",\"minPs\":\"1019.1\",\"minPsHrmt\":\"1610\",\"avgPs\":\"1021.2\",\"ssDur\":\"9.8\",\"sumSsHr\":\"8.9\",\"hr1MaxIcsrHrmt\":\"\",\"hr1MaxIcsr\":\"\",\"sumGsr\":\"\",\"ddMefs\":\"\",\"ddMefsHrmt\":\"\",\"ddMes\":\"\",\"ddMesHrmt\":\"\",\"sumDpthFhsc\":\"\",\"avgTca\":\"0.0\",\"avgLmac\":\"0.0\",\"avgTs\":\"2.5\",\"minTg\":\"-10.9\",\"avgCm5Te\":\"\",\"avgCm10Te\":\"\",\"avgCm20Te\":\"\",\"avgCm30Te\":\"\",\"avgM05Te\":\"\",\"avgM10Te\":\"\",\"avgM15Te\":\"\",\"avgM30Te\":\"\",\"avgM50Te\":\"\",\"sumLrgEv\":\"\",\"sumSmlEv\":\"\",\"n99Rn\":\"\",\"iscs\":\"\",\"sumFogDur\":\"\"},{\"stnId\":\"155\",\"stnNm\":\"\\xec\\xb0\\xbd\\xec\\x9b\\x90\",\"tm\":\"2010-01-02\",\"avgTa\":\"3.5\",\"minTa\":\"-2.7\",\"minTaHrmt\":\"0438\",\"maxTa\":\"10.3\",\"maxTaHrmt\":\"1517\",\"mi10MaxRn\":\"\",\"mi10MaxRnHrmt\":\"\",\"hr1MaxRn\":\"\",\"hr1MaxRnHrmt\":\"\",\"sumRnDur\":\"\",\"sumRn\":\"\",\"maxInsWs\":\"6.2\",\"maxInsWsWd\":\"360\",\"maxInsWsHrmt\":\"2352\",\"maxWs\":\"3.7\",\"maxWsWd\":\"360\",\"maxWsHrmt\":\"1532\",\"avgWs\":\"1.1\",\"hr24SumRws\":\"986\",\"maxWd\":\"20\",\"avgTd\":\"-4.7\",\"minRhm\":\"45\",\"minRhmHrmt\":\"1613\",\"avgRhm\":\"55.0\",\"avgPv\":\"4.4\",\"avgPa\":\"1011.7\",\"maxPs\":\"1020.6\",\"maxPsHrmt\":\"0012\",\"minPs\":\"1011.9\",\"minPsHrmt\":\"1508\",\"avgPs\":\"1016.3\",\"ssDur\":\"9.9\",\"sumSsHr\":\"1.4\",\"hr1MaxIcsrHrmt\":\"\",\"hr1MaxIcsr\":\"\",\"sumGsr\":\"\",\"ddMefs\":\"\",\"ddMefsHrmt\":\"\",\"ddMes\":\"\",\"ddMesHrmt\":\"\",\"sumDpthFhsc\":\"\",\"avgTca\":\"4.0\",\"avgLmac\":\"3.3\",\"avgTs\":\"2.1\",\"minTg\":\"-6.6\",\"avgCm5Te\":\"\",\"avgCm10Te\":\"\",\"avgCm20Te\":\"\",\"avgCm30Te\":\"\",\"avgM05Te\":\"\",\"avgM10Te\":\"\",\"avgM15Te\":\"\",\"avgM30Te\":\"\",\"avgM50Te\":\"\",\"sumLrgEv\":\"\",\"sumSmlEv\":\"\",\"n99Rn\":\"\",\"iscs\":\"\",\"sumFogDur\":\"\"},{\"stnId\":\"155\",\"stnNm\":\"\\xec\\xb0\\xbd\\xec\\x9b\\x90\",\"tm\":\"2010-01-03\",\"avgTa\":\"1.2\",\"minTa\":\"-2.0\",\"minTaHrmt\":\"0650\",\"maxTa\":\"5.0\",\"maxTaHrmt\":\"1514\",\"mi10MaxRn\":\"\",\"mi10MaxRnHrmt\":\"\",\"hr1MaxRn\":\"\",\"hr1MaxRnHrmt\":\"\",\"sumRnDur\":\"\",\"sumRn\":\"\",\"maxInsWs\":\"7.5\",\"maxInsWsWd\":\"90\",\"maxInsWsHrmt\":\"0849\",\"maxWs\":\"4.2\",\"maxWsWd\":\"50\",\"maxWsHrmt\":\"0012\",\"avgWs\":\"1.7\",\"hr24SumRws\":\"1485\",\"maxWd\":\"50\",\"avgTd\":\"-12.3\",\"minRhm\":\"17\",\"minRhmHrmt\":\"1238\",\"avgRhm\":\"37.3\",\"avgPv\":\"2.4\",\"avgPa\":\"1014.6\",\"maxPs\":\"1021.3\",\"maxPsHrmt\":\"0947\",\"minPs\":\"1016.8\",\"minPsHrmt\":\"0000\",\"avgPs\":\"1019.3\",\"ssDur\":\"9.9\",\"sumSsHr\":\"8.8\",\"hr1MaxIcsrHrmt\":\"\",\"hr1MaxIcsr\":\"\",\"sumGsr\":\"\",\"ddMefs\":\"\",\"ddMefsHrmt\":\"\",\"ddMes\":\"\",\"ddMesHrmt\":\"\",\"sumDpthFhsc\":\"\",\"avgTca\":\"0.4\",\"avgLmac\":\"0.0\",\"avgTs\":\"3.0\",\"minTg\":\"-6.6\",\"avgCm5Te\":\"\",\"avgCm10Te\":\"\",\"avgCm20Te\":\"\",\"avgCm30Te\":\"\",\"avgM05Te\":\"\",\"avgM10Te\":\"\",\"avgM15Te\":\"\",\"avgM30Te\":\"\",\"avgM50Te\":\"\",\"sumLrgEv\":\"\",\"sumSmlEv\":\"\",\"n99Rn\":\"\",\"iscs\":\"\",\"sumFogDur\":\"\"},{\"stnId\":\"155\",\"stnNm\":\"\\xec\\xb0\\xbd\\xec\\x9b\\x90\",\"tm\":\"2010-01-04\",\"avgTa\":\"2.7\",\"minTa\":\"-0.4\",\"minTaHrmt\":\"0711\",\"maxTa\":\"9.2\",\"maxTaHrmt\":\"1500\",\"mi10MaxRn\":\"\",\"mi10MaxRnHrmt\":\"\",\"hr1MaxRn\":\"\",\"hr1MaxRnHrmt\":\"\",\"sumRnDur\":\"2.33\",\"sumRn\":\"1.0\",\"maxInsWs\":\"15.6\",\"maxInsWsWd\":\"290\",\"maxInsWsHrmt\":\"1423\",\"maxWs\":\"5.9\",\"maxWsWd\":\"270\",\"maxWsHrmt\":\"1431\",\"avgWs\":\"2.1\",\"hr24SumRws\":\"1781\",\"maxWd\":\"270\",\"avgTd\":\"-7.9\",\"minRhm\":\"27\",\"minRhmHrmt\":\"0114\",\"avgRhm\":\"46.5\",\"avgPv\":\"3.7\",\"avgPa\":\"1007.5\",\"maxPs\":\"1018.9\",\"maxPsHrmt\":\"0000\",\"minPs\":\"1005.6\",\"minPsHrmt\":\"1357\",\"avgPs\":\"1012.0\",\"ssDur\":\"9.9\",\"sumSsHr\":\"2.2\",\"hr1MaxIcsrHrmt\":\"\",\"hr1MaxIcsr\":\"\",\"sumGsr\":\"\",\"ddMefs\":\"\",\"ddMefsHrmt\":\"\",\"ddMes\":\"\",\"ddMesHrmt\":\"\",\"sumDpthFhsc\":\"\",\"avgTca\":\"5.1\",\"avgLmac\":\"2.8\",\"avgTs\":\"2.4\",\"minTg\":\"-4.1\",\"avgCm5Te\":\"\",\"avgCm10Te\":\"\",\"avgCm20Te\":\"\",\"avgCm30Te\":\"\",\"avgM05Te\":\"\",\"avgM10Te\":\"\",\"avgM15Te\":\"\",\"avgM30Te\":\"\",\"avgM50Te\":\"\",\"sumLrgEv\":\"\",\"sumSmlEv\":\"\",\"n99Rn\":\"\",\"iscs\":\"{\\xeb\\xb9\\x84}1030-{\\xeb\\xb9\\x84}{\\xea\\xb0\\x95\\xeb\\x8f\\x840}1200-1250.\",\"sumFogDur\":\"\"},{\"stnId\":\"155\",\"stnNm\":\"\\xec\\xb0\\xbd\\xec\\x9b\\x90\",\"tm\":\"2010-01-05\",\"avgTa\":\"-0.7\",\"minTa\":\"-3.7\",\"minTaHrmt\":\"2323\",\"maxTa\":\"3.1\",\"maxTaHrmt\":\"1325\",\"mi10MaxRn\":\"\",\"mi10MaxRnHrmt\":\"\",\"hr1MaxRn\":\"\",\"hr1MaxRnHrmt\":\"\",\"sumRnDur\":\"\",\"sumRn\":\"\",\"maxInsWs\":\"9.6\",\"maxInsWsWd\":\"320\",\"maxInsWsHrmt\":\"1408\",\"maxWs\":\"5.1\",\"maxWsWd\":\"290\",\"maxWsHrmt\":\"0933\",\"avgWs\":\"2.3\",\"hr24SumRws\":\"1991\",\"maxWd\":\"270\",\"avgTd\":\"-12.8\",\"minRhm\":\"25\",\"minRhmHrmt\":\"1438\",\"avgRhm\":\"40.5\",\"avgPv\":\"2.3\",\"avgPa\":\"1014.7\",\"maxPs\":\"1022.5\",\"maxPsHrmt\":\"2305\",\"minPs\":\"1015.2\",\"minPsHrmt\":\"0033\",\"avgPs\":\"1019.4\",\"ssDur\":\"9.9\",\"sumSsHr\":\"8.1\",\"hr1MaxIcsrHrmt\":\"\",\"hr1MaxIcsr\":\"\",\"sumGsr\":\"\",\"ddMefs\":\"\",\"ddMefsHrmt\":\"\",\"ddMes\":\"\",\"ddMesHrmt\":\"\",\"sumDpthFhsc\":\"\",\"avgTca\":\"0.8\",\"avgLmac\":\"0.5\",\"avgTs\":\"2.0\",\"minTg\":\"-6.0\",\"avgCm5Te\":\"\",\"avgCm10Te\":\"\",\"avgCm20Te\":\"\",\"avgCm30Te\":\"\",\"avgM05Te\":\"\",\"avgM10Te\":\"\",\"avgM15Te\":\"\",\"avgM30Te\":\"\",\"avgM50Te\":\"\",\"sumLrgEv\":\"\",\"sumSmlEv\":\"\",\"n99Rn\":\"\",\"iscs\":\"\",\"sumFogDur\":\"\"},{\"stnId\":\"155\",\"stnNm\":\"\\xec\\xb0\\xbd\\xec\\x9b\\x90\",\"tm\":\"2010-01-06\",\"avgTa\":\"-3.4\",\"minTa\":\"-6.5\",\"minTaHrmt\":\"0622\",\"maxTa\":\"1.3\",\"maxTaHrmt\":\"1523\",\"mi10MaxRn\":\"\",\"mi10MaxRnHrmt\":\"\",\"hr1MaxRn\":\"\",\"hr1MaxRnHrmt\":\"\",\"sumRnDur\":\"\",\"sumRn\":\"\",\"maxInsWs\":\"8.0\",\"maxInsWsWd\":\"20\",\"maxInsWsHrmt\":\"1105\",\"maxWs\":\"4.8\",\"maxWsWd\":\"50\",\"maxWsHrmt\":\"1050\",\"avgWs\":\"2.6\",\"hr24SumRws\":\"2240\",\"maxWd\":\"50\",\"avgTd\":\"-13.8\",\"minRhm\":\"33\",\"minRhmHrmt\":\"1628\",\"avgRhm\":\"44.6\",\"avgPv\":\"2.1\",\"avgPa\":\"1018.0\",\"maxPs\":\"1024.3\",\"maxPsHrmt\":\"2221\",\"minPs\":\"1020.2\",\"minPsHrmt\":\"1500\",\"avgPs\":\"1022.7\",\"ssDur\":\"9.9\",\"sumSsHr\":\"8.9\",\"hr1MaxIcsrHrmt\":\"\",\"hr1MaxIcsr\":\"\",\"sumGsr\":\"\",\"ddMefs\":\"\",\"ddMefsHrmt\":\"\",\"ddMes\":\"\",\"ddMesHrmt\":\"\",\"sumDpthFhsc\":\"\",\"avgTca\":\"0.0\",\"avgLmac\":\"0.0\",\"avgTs\":\"1.7\",\"minTg\":\"-8.3\",\"avgCm5Te\":\"\",\"avgCm10Te\":\"\",\"avgCm20Te\":\"\",\"avgCm30Te\":\"\",\"avgM05Te\":\"\",\"avgM10Te\":\"\",\"avgM15Te\":\"\",\"avgM30Te\":\"\",\"avgM50Te\":\"\",\"sumLrgEv\":\"\",\"sumSmlEv\":\"\",\"n99Rn\":\"\",\"iscs\":\"\",\"sumFogDur\":\"\"},{\"stnId\":\"155\",\"stnNm\":\"\\xec\\xb0\\xbd\\xec\\x9b\\x90\",\"tm\":\"2010-01-07\",\"avgTa\":\"-2.7\",\"minTa\":\"-6.3\",\"minTaHrmt\":\"0507\",\"maxTa\":\"2.9\",\"maxTaHrmt\":\"1443\",\"mi10MaxRn\":\"\",\"mi10MaxRnHrmt\":\"\",\"hr1MaxRn\":\"\",\"hr1MaxRnHrmt\":\"\",\"sumRnDur\":\"\",\"sumRn\":\"\",\"maxInsWs\":\"8.7\",\"maxInsWsWd\":\"360\",\"maxInsWsHrmt\":\"1845\",\"maxWs\":\"5.4\",\"maxWsWd\":\"20\",\"maxWsHrmt\":\"0513\",\"avgWs\":\"3.4\",\"hr24SumRws\":\"2939\",\"maxWd\":\"50\",\"avgTd\":\"-12.6\",\"minRhm\":\"31\",\"minRhmHrmt\":\"1444\",\"avgRhm\":\"47.0\",\"avgPv\":\"2.3\",\"avgPa\":\"1018.6\",\"maxPs\":\"1024.5\",\"maxPsHrmt\":\"0035\",\"minPs\":\"1021.5\",\"minPsHrmt\":\"1502\",\"avgPs\":\"1023.3\",\"ssDur\":\"9.9\",\"sumSsHr\":\"9.0\",\"hr1MaxIcsrHrmt\":\"\",\"hr1MaxIcsr\":\"\",\"sumGsr\":\"\",\"ddMefs\":\"\",\"ddMefsHrmt\":\"\",\"ddMes\":\"\",\"ddMesHrmt\":\"\",\"sumDpthFhsc\":\"\",\"avgTca\":\"0.0\",\"avgLmac\":\"0.0\",\"avgTs\":\"2.0\",\"minTg\":\"-7.7\",\"avgCm5Te\":\"\",\"avgCm10Te\":\"\",\"avgCm20Te\":\"\",\"avgCm30Te\":\"\",\"avgM05Te\":\"\",\"avgM10Te\":\"\",\"avgM15Te\":\"\",\"avgM30Te\":\"\",\"avgM50Te\":\"\",\"sumLrgEv\":\"\",\"sumSmlEv\":\"\",\"n99Rn\":\"\",\"iscs\":\"\",\"sumFogDur\":\"\"},{\"stnId\":\"155\",\"stnNm\":\"\\xec\\xb0\\xbd\\xec\\x9b\\x90\",\"tm\":\"2010-01-08\",\"avgTa\":\"-0.7\",\"minTa\":\"-5.2\",\"minTaHrmt\":\"0630\",\"maxTa\":\"4.0\",\"maxTaHrmt\":\"1510\",\"mi10MaxRn\":\"\",\"mi10MaxRnHrmt\":\"\",\"hr1MaxRn\":\"\",\"hr1MaxRnHrmt\":\"\",\"sumRnDur\":\"\",\"sumRn\":\"\",\"maxInsWs\":\"9.7\",\"maxInsWsWd\":\"70\",\"maxInsWsHrmt\":\"1141\",\"maxWs\":\"5.7\",\"maxWsWd\":\"50\",\"maxWsHrmt\":\"1143\",\"avgWs\":\"3.3\",\"hr24SumRws\":\"2858\",\"maxWd\":\"20\",\"avgTd\":\"-11.0\",\"minRhm\":\"29\",\"minRhmHrmt\":\"1504\",\"avgRhm\":\"46.6\",\"avgPv\":\"2.7\",\"avgPa\":\"1017.7\",\"maxPs\":\"1023.8\",\"maxPsHrmt\":\"1034\",\"minPs\":\"1020.2\",\"minPsHrmt\":\"1422\",\"avgPs\":\"1022.4\",\"ssDur\":\"9.9\",\"sumSsHr\":\"8.9\",\"hr1MaxIcsrHrmt\":\"\",\"hr1MaxIcsr\":\"\",\"sumGsr\":\"\",\"ddMefs\":\"\",\"ddMefsHrmt\":\"\",\"ddMes\":\"\",\"ddMesHrmt\":\"\",\"sumDpthFhsc\":\"\",\"avgTca\":\"0.0\",\"avgLmac\":\"0.0\",\"avgTs\":\"2.0\",\"minTg\":\"-6.3\",\"avgCm5Te\":\"\",\"avgCm10Te\":\"\",\"avgCm20Te\":\"\",\"avgCm30Te\":\"\",\"avgM05Te\":\"\",\"avgM10Te\":\"\",\"avgM15Te\":\"\",\"avgM30Te\":\"\",\"avgM50Te\":\"\",\"sumLrgEv\":\"\",\"sumSmlEv\":\"\",\"n99Rn\":\"\",\"iscs\":\"\",\"sumFogDur\":\"\"},{\"stnId\":\"155\",\"stnNm\":\"\\xec\\xb0\\xbd\\xec\\x9b\\x90\",\"tm\":\"2010-01-09\",\"avgTa\":\"1.5\",\"minTa\":\"-2.6\",\"minTaHrmt\":\"0706\",\"maxTa\":\"5.9\",\"maxTaHrmt\":\"1445\",\"mi10MaxRn\":\"\",\"mi10MaxRnHrmt\":\"\",\"hr1MaxRn\":\"\",\"hr1MaxRnHrmt\":\"\",\"sumRnDur\":\"\",\"sumRn\":\"\",\"maxInsWs\":\"6.9\",\"maxInsWsWd\":\"50\",\"maxInsWsHrmt\":\"0213\",\"maxWs\":\"4.9\",\"maxWsWd\":\"20\",\"maxWsHrmt\":\"0216\",\"avgWs\":\"1.9\",\"hr24SumRws\":\"1605\",\"maxWd\":\"50\",\"avgTd\":\"-12.1\",\"minRhm\":\"19\",\"minRhmHrmt\":\"1449\",\"avgRhm\":\"37.4\",\"avgPv\":\"2.5\",\"avgPa\":\"1019.4\",\"maxPs\":\"1025.7\",\"maxPsHrmt\":\"2349\",\"minPs\":\"1021.9\",\"minPsHrmt\":\"1522\",\"avgPs\":\"1024.1\",\"ssDur\":\"9.9\",\"sumSsHr\":\"4.5\",\"hr1MaxIcsrHrmt\":\"\",\"hr1MaxIcsr\":\"\",\"sumGsr\":\"\",\"ddMefs\":\"\",\"ddMefsHrmt\":\"\",\"ddMes\":\"\",\"ddMesHrmt\":\"\",\"sumDpthFhsc\":\"\",\"avgTca\":\"4.5\",\"avgLmac\":\"2.6\",\"avgTs\":\"2.1\",\"minTg\":\"-3.8\",\"avgCm5Te\":\"\",\"avgCm10Te\":\"\",\"avgCm20Te\":\"\",\"avgCm30Te\":\"\",\"avgM05Te\":\"\",\"avgM10Te\":\"\",\"avgM15Te\":\"\",\"avgM30Te\":\"\",\"avgM50Te\":\"\",\"sumLrgEv\":\"\",\"sumSmlEv\":\"\",\"n99Rn\":\"\",\"iscs\":\"\",\"sumFogDur\":\"\"},{\"stnId\":\"155\",\"stnNm\":\"\\xec\\xb0\\xbd\\xec\\x9b\\x90\",\"tm\":\"2010-01-10\",\"avgTa\":\"2.7\",\"minTa\":\"1.0\",\"minTaHrmt\":\"0648\",\"maxTa\":\"5.4\",\"maxTaHrmt\":\"1358\",\"mi10MaxRn\":\"\",\"mi10MaxRnHrmt\":\"\",\"hr1MaxRn\":\"\",\"hr1MaxRnHrmt\":\"\",\"sumRnDur\":\"\",\"sumRn\":\"\",\"maxInsWs\":\"9.5\",\"maxInsWsWd\":\"50\",\"maxInsWsHrmt\":\"0839\",\"maxWs\":\"4.7\",\"maxWsWd\":\"70\",\"maxWsHrmt\":\"0847\",\"avgWs\":\"2.0\",\"hr24SumRws\":\"1764\",\"maxWd\":\"50\",\"avgTd\":\"-7.4\",\"minRhm\":\"34\",\"minRhmHrmt\":\"1400\",\"avgRhm\":\"47.6\",\"avgPv\":\"3.5\",\"avgPa\":\"1020.4\",\"maxPs\":\"1027.6\",\"maxPsHrmt\":\"1042\",\"minPs\":\"1023.2\",\"minPsHrmt\":\"1704\",\"avgPs\":\"1025.1\",\"ssDur\":\"10.0\",\"sumSsHr\":\"0.0\",\"hr1MaxIcsrHrmt\":\"\",\"hr1MaxIcsr\":\"\",\"sumGsr\":\"\",\"ddMefs\":\"\",\"ddMefsHrmt\":\"\",\"ddMes\":\"\",\"ddMesHrmt\":\"\",\"sumDpthFhsc\":\"\",\"avgTca\":\"8.5\",\"avgLmac\":\"7.5\",\"avgTs\":\"2.1\",\"minTg\":\"-3.0\",\"avgCm5Te\":\"\",\"avgCm10Te\":\"\",\"avgCm20Te\":\"\",\"avgCm30Te\":\"\",\"avgM05Te\":\"\",\"avgM10Te\":\"\",\"avgM15Te\":\"\",\"avgM30Te\":\"\",\"avgM50Te\":\"\",\"sumLrgEv\":\"\",\"sumSmlEv\":\"\",\"n99Rn\":\"\",\"iscs\":\"\",\"sumFogDur\":\"\"}]},\"pageNo\":1,\"numOfRows\":10,\"totalCount\":218}}}'\n"
     ]
    }
   ],
   "source": [
    "params['startDT'] = '20230101'\n",
    "params['endDT'] = '20230806'\n",
    "\n",
    "response = requests.get(url, params=params)\n",
    "print(response.content)"
   ]
  },
  {
   "cell_type": "markdown",
   "metadata": {},
   "source": [
    "#### Json 자료 파싱후 데이터 추출하기"
   ]
  },
  {
   "cell_type": "code",
   "execution_count": 24,
   "metadata": {},
   "outputs": [
    {
     "data": {
      "text/plain": [
       "218"
      ]
     },
     "execution_count": 24,
     "metadata": {},
     "output_type": "execute_result"
    }
   ],
   "source": [
    "# 4. json 데이터를 딕셔너리로 변환(파싱)\n",
    "weather = json.loads(response.content)\n",
    "weather['response']['body']['totalCount']"
   ]
  },
  {
   "cell_type": "code",
   "execution_count": 25,
   "metadata": {},
   "outputs": [
    {
     "name": "stdout",
     "output_type": "stream",
     "text": [
      "Success!\n"
     ]
    }
   ],
   "source": [
    "# 5. 전체 조회 데이터 건수를 이용해 데이터 재요청하기\n",
    "params['numOfRows'] = weather['response']['body']['totalCount']\n",
    "response = requests.get(url, params=params)\n",
    "\n",
    "if response.status_code == 200:  # 응답결과가 정상(200)이면\n",
    "    print('Success!')\n",
    "else:\n",
    "    exit(response.status_code)  # 에러코드 출력 후 프로그램 종료"
   ]
  },
  {
   "cell_type": "code",
   "execution_count": 26,
   "metadata": {},
   "outputs": [
    {
     "data": {
      "text/plain": [
       "{'stnId': '155',\n",
       " 'stnNm': '창원',\n",
       " 'tm': '2010-01-01',\n",
       " 'avgTa': '-2.1',\n",
       " 'minTa': '-8.0',\n",
       " 'minTaHrmt': '0516',\n",
       " 'maxTa': '2.9',\n",
       " 'maxTaHrmt': '1441',\n",
       " 'mi10MaxRn': '',\n",
       " 'mi10MaxRnHrmt': '',\n",
       " 'hr1MaxRn': '',\n",
       " 'hr1MaxRnHrmt': '',\n",
       " 'sumRnDur': '',\n",
       " 'sumRn': '',\n",
       " 'maxInsWs': '6.0',\n",
       " 'maxInsWsWd': '140',\n",
       " 'maxInsWsHrmt': '1510',\n",
       " 'maxWs': '4.3',\n",
       " 'maxWsWd': '110',\n",
       " 'maxWsHrmt': '1512',\n",
       " 'avgWs': '1.5',\n",
       " 'hr24SumRws': '1324',\n",
       " 'maxWd': '110',\n",
       " 'avgTd': '-12.8',\n",
       " 'minRhm': '31',\n",
       " 'minRhmHrmt': '0002',\n",
       " 'avgRhm': '44.3',\n",
       " 'avgPv': '2.3',\n",
       " 'avgPa': '1016.5',\n",
       " 'maxPs': '1023.1',\n",
       " 'maxPsHrmt': '0845',\n",
       " 'minPs': '1019.1',\n",
       " 'minPsHrmt': '1610',\n",
       " 'avgPs': '1021.2',\n",
       " 'ssDur': '9.8',\n",
       " 'sumSsHr': '8.9',\n",
       " 'hr1MaxIcsrHrmt': '',\n",
       " 'hr1MaxIcsr': '',\n",
       " 'sumGsr': '',\n",
       " 'ddMefs': '',\n",
       " 'ddMefsHrmt': '',\n",
       " 'ddMes': '',\n",
       " 'ddMesHrmt': '',\n",
       " 'sumDpthFhsc': '',\n",
       " 'avgTca': '0.0',\n",
       " 'avgLmac': '0.0',\n",
       " 'avgTs': '2.5',\n",
       " 'minTg': '-10.9',\n",
       " 'avgCm5Te': '',\n",
       " 'avgCm10Te': '',\n",
       " 'avgCm20Te': '',\n",
       " 'avgCm30Te': '',\n",
       " 'avgM05Te': '',\n",
       " 'avgM10Te': '',\n",
       " 'avgM15Te': '',\n",
       " 'avgM30Te': '',\n",
       " 'avgM50Te': '',\n",
       " 'sumLrgEv': '',\n",
       " 'sumSmlEv': '',\n",
       " 'n99Rn': '',\n",
       " 'iscs': '',\n",
       " 'sumFogDur': ''}"
      ]
     },
     "execution_count": 26,
     "metadata": {},
     "output_type": "execute_result"
    }
   ],
   "source": [
    "# 6. json 데이터를 딕셔너리로 변환(파싱)\n",
    "weather = json.loads(response.content)\n",
    "weather['response']['body']['items']['item'][0]"
   ]
  },
  {
   "cell_type": "code",
   "execution_count": null,
   "metadata": {},
   "outputs": [],
   "source": []
  }
 ],
 "metadata": {
  "kernelspec": {
   "display_name": "mtedu",
   "language": "python",
   "name": "python3"
  },
  "language_info": {
   "codemirror_mode": {
    "name": "ipython",
    "version": 3
   },
   "file_extension": ".py",
   "mimetype": "text/x-python",
   "name": "python",
   "nbconvert_exporter": "python",
   "pygments_lexer": "ipython3",
   "version": "3.10.12"
  },
  "orig_nbformat": 4
 },
 "nbformat": 4,
 "nbformat_minor": 2
}
