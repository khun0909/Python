{
 "cells": [
  {
   "cell_type": "code",
   "execution_count": 4,
   "metadata": {},
   "outputs": [],
   "source": [
    "#python 함수 정의: 특정 행동만 진행하는 함수\n",
    "#두개의 데이터를 가져와 비교하는 함수\n",
    "\n",
    "def prnMax(a, b):\n",
    "    if a>b:\n",
    "        print(f'{a}와 {b}보다 큰 값입니다.')\n",
    "    elif a==b:\n",
    "        print(f'{a}와 {b}는 동일한 값입니다.')\n",
    "    else:\n",
    "        print(f'{a}가 {b}보다 큰 값입니다.')"
   ]
  }
 ],
 "metadata": {
  "kernelspec": {
   "display_name": "Python 3.11.4 64-bit",
   "language": "python",
   "name": "python3"
  },
  "language_info": {
   "codemirror_mode": {
    "name": "ipython",
    "version": 3
   },
   "file_extension": ".py",
   "mimetype": "text/x-python",
   "name": "python",
   "nbconvert_exporter": "python",
   "pygments_lexer": "ipython3",
   "version": "3.11.4"
  },
  "orig_nbformat": 4,
  "vscode": {
   "interpreter": {
    "hash": "aee8b7b246df8f9039afb4144a1f6fd8d2ca17a180786b69acc140d282b71a49"
   }
  }
 },
 "nbformat": 4,
 "nbformat_minor": 2
}
